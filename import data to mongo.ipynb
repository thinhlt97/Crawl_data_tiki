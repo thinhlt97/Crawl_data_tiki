{
 "cells": [
  {
   "cell_type": "code",
   "execution_count": 17,
   "id": "79ca69f0-9b75-4110-b79d-9d339b1d193c",
   "metadata": {},
   "outputs": [],
   "source": [
    "from pymongo import MongoClient\n",
    "import pandas as pd"
   ]
  },
  {
   "cell_type": "code",
   "execution_count": 4,
   "id": "450186db-bf88-4252-a36f-a2f19946ed04",
   "metadata": {},
   "outputs": [],
   "source": [
    "client = MongoClient(\"mongodb://localhost:27017/\")"
   ]
  },
  {
   "cell_type": "code",
   "execution_count": 5,
   "id": "94deae36-5970-49de-85f8-c016be330712",
   "metadata": {},
   "outputs": [],
   "source": [
    "db = client['mydatabase']"
   ]
  },
  {
   "cell_type": "code",
   "execution_count": 6,
   "id": "a8abc927-c5ac-47b2-90b8-42ae62dab4f6",
   "metadata": {},
   "outputs": [],
   "source": [
    "collection = db['mycollection']"
   ]
  },
  {
   "cell_type": "code",
   "execution_count": 18,
   "id": "c5f5fdc3-c680-47cf-b120-4f3b09f7d172",
   "metadata": {},
   "outputs": [],
   "source": [
    "df = pd.read_csv('crawled_data_ncds.csv')"
   ]
  },
  {
   "cell_type": "code",
   "execution_count": 27,
   "id": "19793aeb-2952-4ead-ae0b-938268eae606",
   "metadata": {},
   "outputs": [],
   "source": [
    "data = df.to_dict(orient='records')"
   ]
  },
  {
   "cell_type": "code",
   "execution_count": 29,
   "id": "2d40c8fc-0355-4235-a9d2-29bc1f79576e",
   "metadata": {},
   "outputs": [
    {
     "data": {
      "text/plain": [
       "{'id': 1391347,\n",
       " 'url': 'tranh-xep-hinh-tia-sang-guong-thu-tia-sang-2035-manh-ghep-p1391347',\n",
       " 'name': 'Tranh xếp Hình Tia Sáng  Gương Thu Tia Sáng (2035 Mảnh Ghép)',\n",
       " 'price': 209950,\n",
       " 'images_base_url': 'https://salt.tikicdn.com/ts/product/f4/6e/ff/18952da934d8ae12e0bd1edcf0ac2c8f.jpg',\n",
       " 'description': 'Bộ Xếp Hình Gương Thu Tia Sáng (2035 Mảnh Ghép)\\xa0được làm từ chất liệu giấy bồi cao cấp, bền đẹp không gây độc hại an toàn cho sức khỏe của bé.Với màu sắc sinh động cùng ý tưởng về gương thu sẽ mang đến cho trẻ những giây phút trải nghiệm độc đáo, thú vị.Kiểu dáng nhỏ gọn, dễ dàng mang theo. Bên cạnh đó, sau khi hoàn thành bộ xếp hình bé có thể đóng khung giấy và treo lên để trang trí phòng ngủ của mình.Được thiết kế để hỗ trợ bé yêu của bạn phát triển trí não và các kỹ năng cần thiết khác ngay những năm tháng đầu đời.Với bộ sản phẩm này, bé có thể phát huy khả năng tư duy và sáng tạo, rèn luyện tính kiên nhẫn, sự khéo léo, óc logic cũng như trí tưởng tượng của mình qua việc lắp ráp.Giá sản phẩm trên Tiki đã bao gồm thuế theo luật hiện hành. Bên cạnh đó, tuỳ vào loại sản phẩm, hình thức và địa chỉ giao hàng mà có thể phát sinh thêm chi phí khác như phí vận chuyển, phụ phí hàng cồng kềnh, thuế nhập khẩu (đối với đơn hàng giao từ nước ngoài có giá trị trên 1 triệu đồng).....'}"
      ]
     },
     "execution_count": 29,
     "metadata": {},
     "output_type": "execute_result"
    }
   ],
   "source": [
    "data[0]"
   ]
  },
  {
   "cell_type": "code",
   "execution_count": 30,
   "id": "e697c36c-1a75-47a2-bd40-ca09943958e4",
   "metadata": {},
   "outputs": [],
   "source": [
    "result = collection.insert_many(data)"
   ]
  },
  {
   "cell_type": "code",
   "execution_count": 31,
   "id": "77aaf0b9-f384-4c4f-8316-00dde820d2a9",
   "metadata": {},
   "outputs": [
    {
     "data": {
      "text/plain": [
       "199264"
      ]
     },
     "execution_count": 31,
     "metadata": {},
     "output_type": "execute_result"
    }
   ],
   "source": [
    "len(result.inserted_ids)"
   ]
  },
  {
   "cell_type": "code",
   "execution_count": null,
   "id": "9617eccd-357c-435d-9a4e-344c9e525112",
   "metadata": {},
   "outputs": [],
   "source": []
  }
 ],
 "metadata": {
  "kernelspec": {
   "display_name": "Python 3 (ipykernel)",
   "language": "python",
   "name": "python3"
  },
  "language_info": {
   "codemirror_mode": {
    "name": "ipython",
    "version": 3
   },
   "file_extension": ".py",
   "mimetype": "text/x-python",
   "name": "python",
   "nbconvert_exporter": "python",
   "pygments_lexer": "ipython3",
   "version": "3.10.12"
  }
 },
 "nbformat": 4,
 "nbformat_minor": 5
}
