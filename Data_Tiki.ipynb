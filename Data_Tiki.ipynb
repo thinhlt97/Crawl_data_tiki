{
 "cells": [
  {
   "cell_type": "code",
   "execution_count": 1,
   "id": "0c4db211-a2e7-403d-ba6a-39932aac56c5",
   "metadata": {},
   "outputs": [],
   "source": [
    "import requests\n",
    "from bs4 import BeautifulSoup\n",
    "import html\n",
    "import pandas as pd\n",
    "from tqdm import tqdm"
   ]
  },
  {
   "cell_type": "code",
   "execution_count": 3,
   "id": "e68f5734-5bde-4066-9c0f-fd63317111de",
   "metadata": {},
   "outputs": [],
   "source": [
    "df_id = pd.read_csv('product_id.csv')\n",
    "p_ids = df_id.id.to_list()\n",
    "result = []"
   ]
  },
  {
   "cell_type": "code",
   "execution_count": 9,
   "id": "4dec1e83-944f-49b4-898f-8e3f1239f3c3",
   "metadata": {},
   "outputs": [],
   "source": [
    "headers = {\n",
    "'accept':'application/json, text/plain, */*',\n",
    "'accept-encoding':'gzip, deflate, br, zstd',\n",
    "'accept-language':'en-US,en;q=0.9',\n",
    "'priority':'u=1, i',\n",
    "'referer':'https://tiki.vn/may-doc-sach-all-new-kindle-paperwhite-5-11th-gen-hang-nhap-khau-p125182567.html?itm_campaign=CTP_YPD_TKA_PLA_UNK_ALL_UNK_UNK_UNK_UNK_X.204054_Y.1786374_Z.3548453_CN.PPW5--Chuan-nhat&itm_medium=CPC&itm_source=tiki-ads&spid=125182569',\n",
    "'sec-ch-ua':'\"Chromium\";v=\"128\", \"Not;A=Brand\";v=\"24\", \"Microsoft Edge\";v=\"128\"',\n",
    "'sec-ch-ua-mobile':'?0',\n",
    "'sec-ch-ua-platform':'\"Windows\"',\n",
    "'sec-fetch-dest':'empty',\n",
    "'sec-fetch-mode':'cors',\n",
    "'sec-fetch-site':'same-origin',\n",
    "'user-agent':'Mozilla/5.0 (Windows NT 10.0; Win64; x64) AppleWebKit/537.36 (KHTML, like Gecko) Chrome/128.0.0.0 Safari/537.36 Edg/128.0.0.0',\n",
    "'x-guest-token':'y0U43MiCJhumQfcxjdO6YrS5LIBgKwp8'\n",
    "}"
   ]
  },
  {
   "cell_type": "code",
   "execution_count": 5,
   "id": "482b2515-c374-4a67-aea7-36a609671938",
   "metadata": {},
   "outputs": [],
   "source": [
    "def parser_product(json):\n",
    "    d = dict()\n",
    "    d['id'] = json.get('id')\n",
    "    d['url']= json.get('url_key')\n",
    "    d['name']= json.get('name')\n",
    "    d['price'] = json.get('price')\n",
    "    if json.get('images') is not None:\n",
    "        d['images_base_url'] = json.get('images')[0].get('base_url')\n",
    "    else:\n",
    "        d['images_base_url'] = None\n",
    "    d['description']= BeautifulSoup(json.get('description'),'html.parser').get_text()\n",
    "    return d"
   ]
  },
  {
   "cell_type": "code",
   "execution_count": 68,
   "id": "e312ed87-8623-47d7-b12e-fd9c1c97b607",
   "metadata": {},
   "outputs": [
    {
     "name": "stderr",
     "output_type": "stream",
     "text": [
      "0it [00:00, ?it/s]\n"
     ]
    }
   ],
   "source": [
    "def save_state(index):\n",
    "    with open('state.json', 'w') as f:\n",
    "        json.dump({'index': index}, f)\n",
    "\n",
    "def load_state():\n",
    "    try:\n",
    "        with open('state.json', 'r') as f:\n",
    "            return json.load(f)['index']\n",
    "    except FileNotFoundError:\n",
    "        return 0  # Bắt đầu từ 0 nếu không tìm thấy file\n",
    "start_index = load_state()\n",
    "for i in tqdm(range(start_index,len(p_ids))):\n",
    "    response = requests.get('https://api.tiki.vn/product-detail/api/v1/products/{}'.format(p_ids[i]),headers = headers)\n",
    "    if response.status_code == 200:\n",
    "        print('Crawl data {} successfull'.format(p_ids[i]))\n",
    "        result.append(parser_product(response.json()))\n",
    "        save_state(i+1)\n",
    "    elif response.status_code == 404:\n",
    "        pass\n",
    "    else:\n",
    "        print(f\"Error fetching data for item {i}: {response.status_code}\")\n",
    "        break  # Dừng tại đây nếu có lỗi"
   ]
  },
  {
   "cell_type": "code",
   "execution_count": null,
   "id": "ee2fac8b-fdc9-487c-ad4b-37733729689b",
   "metadata": {},
   "outputs": [],
   "source": [
    "df_product = pd.DataFrame(result)\n",
    "df_product.to_csv('crawled_data_ncds.csv', index=False)"
   ]
  },
  {
   "cell_type": "code",
   "execution_count": 64,
   "id": "e430b1da-2ae9-4525-a13d-cbef6aa2d358",
   "metadata": {},
   "outputs": [
    {
     "data": {
      "text/plain": [
       "199264"
      ]
     },
     "execution_count": 64,
     "metadata": {},
     "output_type": "execute_result"
    }
   ],
   "source": [
    "len(result)"
   ]
  },
  {
   "cell_type": "code",
   "execution_count": 60,
   "id": "74d24ab4-888e-40ad-90d0-f8830132e8a1",
   "metadata": {},
   "outputs": [],
   "source": [
    "df_product = pd.DataFrame(result)"
   ]
  },
  {
   "cell_type": "code",
   "execution_count": 72,
   "id": "9669b10f-8788-4472-aa70-aed712638d5a",
   "metadata": {},
   "outputs": [],
   "source": [
    "df_product.to_csv('crawled_data_ncds.csv', index=False)"
   ]
  },
  {
   "cell_type": "code",
   "execution_count": 70,
   "id": "54fbedb6-e2a2-4aea-bdbb-99199b14a1d0",
   "metadata": {},
   "outputs": [
    {
     "data": {
      "text/html": [
       "<div>\n",
       "<style scoped>\n",
       "    .dataframe tbody tr th:only-of-type {\n",
       "        vertical-align: middle;\n",
       "    }\n",
       "\n",
       "    .dataframe tbody tr th {\n",
       "        vertical-align: top;\n",
       "    }\n",
       "\n",
       "    .dataframe thead th {\n",
       "        text-align: right;\n",
       "    }\n",
       "</style>\n",
       "<table border=\"1\" class=\"dataframe\">\n",
       "  <thead>\n",
       "    <tr style=\"text-align: right;\">\n",
       "      <th></th>\n",
       "      <th>id</th>\n",
       "      <th>url</th>\n",
       "      <th>name</th>\n",
       "      <th>price</th>\n",
       "      <th>images_base_url</th>\n",
       "      <th>description</th>\n",
       "    </tr>\n",
       "  </thead>\n",
       "  <tbody>\n",
       "    <tr>\n",
       "      <th>199259</th>\n",
       "      <td>145236648</td>\n",
       "      <td>ca-vat-nam-su-kien-hoi-nghi-du-tiec-cong-so-8c...</td>\n",
       "      <td>CÀ VẠT NAM SỰ KIỆN, HỘI NGHỊ, DỰ TIỆC, CÔNG SỞ...</td>\n",
       "      <td>167000</td>\n",
       "      <td>https://salt.tikicdn.com/ts/product/2c/bd/65/3...</td>\n",
       "      <td>\\n\\n\\n\\n CÀ VẠT NAM THỜI TRANG FITTOP\\n-------...</td>\n",
       "    </tr>\n",
       "    <tr>\n",
       "      <th>199260</th>\n",
       "      <td>26470905</td>\n",
       "      <td>khan-len-nam-nu-phong-cach-han-quoc-dai-1-8m-r...</td>\n",
       "      <td>Khăn len nam nữ phong cách hàn quốc (dài 1.8m ...</td>\n",
       "      <td>109000</td>\n",
       "      <td>https://salt.tikicdn.com/ts/product/c0/0f/d5/0...</td>\n",
       "      <td>THÔNG TIN SẢN PHẨM\\nChất liệu :\\nLen đan ấm áp...</td>\n",
       "    </tr>\n",
       "    <tr>\n",
       "      <th>199261</th>\n",
       "      <td>31288300</td>\n",
       "      <td>khan-len-quang-co-nam-lich-lam-sang-trong-sk10...</td>\n",
       "      <td>Khăn len quảng cổ nam lịch lãm sang trọng SK108</td>\n",
       "      <td>109000</td>\n",
       "      <td>https://salt.tikicdn.com/ts/product/2e/1a/04/0...</td>\n",
       "      <td>Khăn len nam\\nKhông chỉ riêng nữ giới, các đấn...</td>\n",
       "    </tr>\n",
       "    <tr>\n",
       "      <th>199262</th>\n",
       "      <td>194026976</td>\n",
       "      <td>khan-tay-khan-choang-tam-doc-dao-thu-hut-moi-a...</td>\n",
       "      <td>Khăn tay khăn choàng tắm độc đáo thu hút mọi á...</td>\n",
       "      <td>39200</td>\n",
       "      <td>https://salt.tikicdn.com/ts/product/a8/aa/5c/b...</td>\n",
       "      <td>ĐẶC ĐIỂM NỔI BẬT\\nKhăn tay khăn choàng tắm độc...</td>\n",
       "    </tr>\n",
       "    <tr>\n",
       "      <th>199263</th>\n",
       "      <td>6896803</td>\n",
       "      <td>khan-bit-mat-chong-nang-di-phuot-cs-p6896803</td>\n",
       "      <td>Khăn Bit Mặt Chống Nắng Đi Phượt CS</td>\n",
       "      <td>35000</td>\n",
       "      <td>https://salt.tikicdn.com/ts/product/2b/0f/a4/2...</td>\n",
       "      <td>Khăn Trùm Full Đầu Ninja - Lựa Chọn Của Dân Ph...</td>\n",
       "    </tr>\n",
       "  </tbody>\n",
       "</table>\n",
       "</div>"
      ],
      "text/plain": [
       "               id                                                url  \\\n",
       "199259  145236648  ca-vat-nam-su-kien-hoi-nghi-du-tiec-cong-so-8c...   \n",
       "199260   26470905  khan-len-nam-nu-phong-cach-han-quoc-dai-1-8m-r...   \n",
       "199261   31288300  khan-len-quang-co-nam-lich-lam-sang-trong-sk10...   \n",
       "199262  194026976  khan-tay-khan-choang-tam-doc-dao-thu-hut-moi-a...   \n",
       "199263    6896803       khan-bit-mat-chong-nang-di-phuot-cs-p6896803   \n",
       "\n",
       "                                                     name   price  \\\n",
       "199259  CÀ VẠT NAM SỰ KIỆN, HỘI NGHỊ, DỰ TIỆC, CÔNG SỞ...  167000   \n",
       "199260  Khăn len nam nữ phong cách hàn quốc (dài 1.8m ...  109000   \n",
       "199261   Khăn len quảng cổ nam lịch lãm sang trọng SK108   109000   \n",
       "199262  Khăn tay khăn choàng tắm độc đáo thu hút mọi á...   39200   \n",
       "199263                Khăn Bit Mặt Chống Nắng Đi Phượt CS   35000   \n",
       "\n",
       "                                          images_base_url  \\\n",
       "199259  https://salt.tikicdn.com/ts/product/2c/bd/65/3...   \n",
       "199260  https://salt.tikicdn.com/ts/product/c0/0f/d5/0...   \n",
       "199261  https://salt.tikicdn.com/ts/product/2e/1a/04/0...   \n",
       "199262  https://salt.tikicdn.com/ts/product/a8/aa/5c/b...   \n",
       "199263  https://salt.tikicdn.com/ts/product/2b/0f/a4/2...   \n",
       "\n",
       "                                              description  \n",
       "199259  \\n\\n\\n\\n CÀ VẠT NAM THỜI TRANG FITTOP\\n-------...  \n",
       "199260  THÔNG TIN SẢN PHẨM\\nChất liệu :\\nLen đan ấm áp...  \n",
       "199261  Khăn len nam\\nKhông chỉ riêng nữ giới, các đấn...  \n",
       "199262  ĐẶC ĐIỂM NỔI BẬT\\nKhăn tay khăn choàng tắm độc...  \n",
       "199263  Khăn Trùm Full Đầu Ninja - Lựa Chọn Của Dân Ph...  "
      ]
     },
     "execution_count": 70,
     "metadata": {},
     "output_type": "execute_result"
    }
   ],
   "source": [
    "df_product.tail()"
   ]
  },
  {
   "cell_type": "code",
   "execution_count": 27,
   "id": "c527b931-ffe6-4d40-858b-c6df581d9a65",
   "metadata": {},
   "outputs": [
    {
     "data": {
      "text/plain": [
       "{'id': 205514048,\n",
       " 'url': 'phu-kien-luoi-dao-cao-rau-3-luoi-thay-the-cho-may-cao-rau-mini-3-luoi-cong-nghe-nhat-ban-p205514048',\n",
       " 'name': 'Phụ Kiện - Lưỡi Dao Cạo Râu 3 Lưỡi Thay Thế Cho Máy Cạo Râu MiNi 3 Lưỡi Công Nghệ Nhật Bản',\n",
       " 'price': 35000,\n",
       " 'images_base_url': 'https://salt.tikicdn.com/ts/product/e8/a0/d0/47d0131555d2aa339c3b42521ea5cd05.jpg',\n",
       " 'description': 'Lưỡi Cạo Thay Thế Cho Máy Cạo Râu Mini Siêu Nhỏ - Mẫu Lưỡi Cao Thiết Kế Theo Công Nghệ Nhật Bản\\n\\xa0 \\xa0 \\xa0 \\xa0 \\xa0 \\xa0 \\xa0 \\xa0 \\xa0 \\xa0 \\xa0 \\xa0\\n\\xa0 \\xa0 \\xa0 \\xa0 \\xa0 \\xa0 \\xa0 \\xa0 \\xa0 \\xa0 \\xa0 \\xa0\\n️ Dao cạo râu tốt, an toàn, chất lượng\\n– Vật dụng cần thiết của cánh mày râu\\n️ Đối với cánh mày râu, dao cạo râu được xem là một dụng cụ không thể thiếu để chăm sóc bản thân. Nó sẽ giúp dọn sạch râu, lông mang đến cho bạn một gương mặt điển trai, sạch sẽ, đầy sức hút. Thế nhưng, mua dao cạo ở đâu để đảm bảo chất lượng thì vẫn là băn khoăn của nhiều người. Giờ đây, công việc mua sắm này đã trở nên dễ dàng hơn nhờ có Super-Tech Store. Super-Tech Store là một trong những trang thương mại điện tử hàng đầu Việt Nam với hàng ngàn mặt sản phẩm chăm sóc cho nam giới, lưỡi dao cạo râu, dao cạo râu tốt, chất lượng cao. Hãy truy cập Super-Tech Store ngay để chọn mua cho mình những sản phẩm ưng ý nhất. --------------------------------------\\nBộ sản phẩm bao gồm:\\n- 03 Lưỡi Dao Cạo Râu Thay Thế\\n\\xa0 \\xa0 \\xa0 \\xa0 \\xa0 \\xa0 \\xa0 \\xa0 \\xa0 \\xa0 \\xa0 \\xa0 \\xa0 \\xa0\\xa0Giá sản phẩm trên Tiki đã bao gồm thuế theo luật hiện hành. Bên cạnh đó, tuỳ vào loại sản phẩm, hình thức và địa chỉ giao hàng mà có thể phát sinh thêm chi phí khác như phí vận chuyển, phụ phí hàng cồng kềnh, thuế nhập khẩu (đối với đơn hàng giao từ nước ngoài có giá trị trên 1 triệu đồng).....Sản phẩm này là tài sản cá nhân được bán bởi Nhà Bán Hàng Cá Nhân và không thuộc đối tượng phải chịu thuế GTGT. Do đó hoá đơn VAT không được cung cấp trong trường hợp này.'}"
      ]
     },
     "execution_count": 27,
     "metadata": {},
     "output_type": "execute_result"
    }
   ],
   "source": [
    "result[-1]"
   ]
  },
  {
   "cell_type": "code",
   "execution_count": 33,
   "id": "4fe17119-cb49-427f-a6f8-1917c32a3519",
   "metadata": {},
   "outputs": [],
   "source": [
    "with open('state.json', 'w') as f:\n",
    "    json.dump({'index': 38718}, f)"
   ]
  },
  {
   "cell_type": "code",
   "execution_count": 43,
   "id": "2e469b39-387e-4ee3-9ebc-7b516c25dc5e",
   "metadata": {},
   "outputs": [],
   "source": [
    "df_product.to_csv('crawled_data_ncds.csv', index=False)"
   ]
  },
  {
   "cell_type": "code",
   "execution_count": 66,
   "id": "477f158c-1b88-494a-9f90-46c5181f4715",
   "metadata": {},
   "outputs": [
    {
     "data": {
      "text/plain": [
       "200000"
      ]
     },
     "execution_count": 66,
     "metadata": {},
     "output_type": "execute_result"
    }
   ],
   "source": [
    "load_state()"
   ]
  },
  {
   "cell_type": "code",
   "execution_count": 84,
   "id": "f96a2fef-2117-4ffc-a4b1-646538b65b62",
   "metadata": {},
   "outputs": [
    {
     "data": {
      "text/html": [
       "<div>\n",
       "<style scoped>\n",
       "    .dataframe tbody tr th:only-of-type {\n",
       "        vertical-align: middle;\n",
       "    }\n",
       "\n",
       "    .dataframe tbody tr th {\n",
       "        vertical-align: top;\n",
       "    }\n",
       "\n",
       "    .dataframe thead th {\n",
       "        text-align: right;\n",
       "    }\n",
       "</style>\n",
       "<table border=\"1\" class=\"dataframe\">\n",
       "  <thead>\n",
       "    <tr style=\"text-align: right;\">\n",
       "      <th></th>\n",
       "      <th>id</th>\n",
       "      <th>url</th>\n",
       "      <th>name</th>\n",
       "      <th>price</th>\n",
       "      <th>images_base_url</th>\n",
       "      <th>description</th>\n",
       "    </tr>\n",
       "  </thead>\n",
       "  <tbody>\n",
       "    <tr>\n",
       "      <th>0</th>\n",
       "      <td>1391347</td>\n",
       "      <td>tranh-xep-hinh-tia-sang-guong-thu-tia-sang-203...</td>\n",
       "      <td>Tranh xếp Hình Tia Sáng  Gương Thu Tia Sáng (2...</td>\n",
       "      <td>209950</td>\n",
       "      <td>https://salt.tikicdn.com/ts/product/f4/6e/ff/1...</td>\n",
       "      <td>Bộ Xếp Hình Gương Thu Tia Sáng (2035 Mảnh Ghép...</td>\n",
       "    </tr>\n",
       "    <tr>\n",
       "      <th>1</th>\n",
       "      <td>74897599</td>\n",
       "      <td>bo-do-choi-lap-ghep-xe-xuc-kavy-nhieu-mau-sac-...</td>\n",
       "      <td>Bộ đồ chơi lắp ghép xe xúc KAVY nhiều màu sắc ...</td>\n",
       "      <td>87000</td>\n",
       "      <td>https://salt.tikicdn.com/ts/product/75/3f/28/a...</td>\n",
       "      <td>BỘ ĐỒ CHƠI LẮP RÁP XE XÚC CHO BÉƯU ĐIỂM :+ Chấ...</td>\n",
       "    </tr>\n",
       "    <tr>\n",
       "      <th>2</th>\n",
       "      <td>154155413</td>\n",
       "      <td>bo-do-choi-tau-hoa-do-choi-xe-lua-co-duong-ray...</td>\n",
       "      <td>Bộ đồ chơi tàu hỏa, Đồ chơi xe lửa có đường ra...</td>\n",
       "      <td>59000</td>\n",
       "      <td>https://salt.tikicdn.com/ts/product/a6/f2/d0/b...</td>\n",
       "      <td>Bộ đồ chơi tàu hỏa, Đồ chơi xe lửa có đường ra...</td>\n",
       "    </tr>\n",
       "    <tr>\n",
       "      <th>3</th>\n",
       "      <td>253117062</td>\n",
       "      <td>mo-hinh-lego-minifigures-lap-rap-nhan-vat-hoat...</td>\n",
       "      <td>Mô Hình Minifigures Lắp Ráp Nhân Vật Hoạt Hình...</td>\n",
       "      <td>18000</td>\n",
       "      <td>https://salt.tikicdn.com/ts/product/1c/19/03/b...</td>\n",
       "      <td>• Chiều cao mỗi nhân vật từ 4 - 5cm• Sản phẩm ...</td>\n",
       "    </tr>\n",
       "    <tr>\n",
       "      <th>4</th>\n",
       "      <td>130978358</td>\n",
       "      <td>bo-do-choi-heo-peppa-leo-thang-co-nhac-va-den-...</td>\n",
       "      <td>Bộ đồ chơi Heo Peppa leo thang - Có nhạc và đè...</td>\n",
       "      <td>90000</td>\n",
       "      <td>https://salt.tikicdn.com/ts/product/cf/a5/7b/7...</td>\n",
       "      <td>Thông tin sản phẩm:- Tên sản phẩm: Đồ chơi heo...</td>\n",
       "    </tr>\n",
       "  </tbody>\n",
       "</table>\n",
       "</div>"
      ],
      "text/plain": [
       "          id                                                url  \\\n",
       "0    1391347  tranh-xep-hinh-tia-sang-guong-thu-tia-sang-203...   \n",
       "1   74897599  bo-do-choi-lap-ghep-xe-xuc-kavy-nhieu-mau-sac-...   \n",
       "2  154155413  bo-do-choi-tau-hoa-do-choi-xe-lua-co-duong-ray...   \n",
       "3  253117062  mo-hinh-lego-minifigures-lap-rap-nhan-vat-hoat...   \n",
       "4  130978358  bo-do-choi-heo-peppa-leo-thang-co-nhac-va-den-...   \n",
       "\n",
       "                                                name   price  \\\n",
       "0  Tranh xếp Hình Tia Sáng  Gương Thu Tia Sáng (2...  209950   \n",
       "1  Bộ đồ chơi lắp ghép xe xúc KAVY nhiều màu sắc ...   87000   \n",
       "2  Bộ đồ chơi tàu hỏa, Đồ chơi xe lửa có đường ra...   59000   \n",
       "3  Mô Hình Minifigures Lắp Ráp Nhân Vật Hoạt Hình...   18000   \n",
       "4  Bộ đồ chơi Heo Peppa leo thang - Có nhạc và đè...   90000   \n",
       "\n",
       "                                     images_base_url  \\\n",
       "0  https://salt.tikicdn.com/ts/product/f4/6e/ff/1...   \n",
       "1  https://salt.tikicdn.com/ts/product/75/3f/28/a...   \n",
       "2  https://salt.tikicdn.com/ts/product/a6/f2/d0/b...   \n",
       "3  https://salt.tikicdn.com/ts/product/1c/19/03/b...   \n",
       "4  https://salt.tikicdn.com/ts/product/cf/a5/7b/7...   \n",
       "\n",
       "                                         description  \n",
       "0  Bộ Xếp Hình Gương Thu Tia Sáng (2035 Mảnh Ghép...  \n",
       "1  BỘ ĐỒ CHƠI LẮP RÁP XE XÚC CHO BÉƯU ĐIỂM :+ Chấ...  \n",
       "2  Bộ đồ chơi tàu hỏa, Đồ chơi xe lửa có đường ra...  \n",
       "3  • Chiều cao mỗi nhân vật từ 4 - 5cm• Sản phẩm ...  \n",
       "4  Thông tin sản phẩm:- Tên sản phẩm: Đồ chơi heo...  "
      ]
     },
     "execution_count": 84,
     "metadata": {},
     "output_type": "execute_result"
    }
   ],
   "source": [
    "df_product.head()"
   ]
  },
  {
   "cell_type": "code",
   "execution_count": 82,
   "id": "6c2e0e72-3583-480d-bfaa-6f506139c1cf",
   "metadata": {},
   "outputs": [],
   "source": [
    "df_product['description']=df_product['description'].str.replace('\\n','')"
   ]
  },
  {
   "cell_type": "code",
   "execution_count": 86,
   "id": "d03e92cf-6e84-4621-8bf7-3830aee4e268",
   "metadata": {},
   "outputs": [],
   "source": [
    "df_product.to_csv('crawled_data_ncds.csv', index=False)"
   ]
  },
  {
   "cell_type": "code",
   "execution_count": null,
   "id": "dce34dcf-4100-47b4-9dec-793d070c2898",
   "metadata": {},
   "outputs": [],
   "source": []
  }
 ],
 "metadata": {
  "kernelspec": {
   "display_name": "Python 3 (ipykernel)",
   "language": "python",
   "name": "python3"
  },
  "language_info": {
   "codemirror_mode": {
    "name": "ipython",
    "version": 3
   },
   "file_extension": ".py",
   "mimetype": "text/x-python",
   "name": "python",
   "nbconvert_exporter": "python",
   "pygments_lexer": "ipython3",
   "version": "3.12.4"
  }
 },
 "nbformat": 4,
 "nbformat_minor": 5
}
